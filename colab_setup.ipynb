{
  "cells": [
    {
      "cell_type": "markdown",
      "metadata": {
        "id": "header"
      },
      "source": [
        "# Embedding Service PoC - Colab Setup\n",
        "\n",
        "This notebook sets up and runs the embedding service comparison on Colab with T4 GPU.\n",
        "\n",
        "**Runtime: GPU (T4)**"
      ]
    },
    {
      "cell_type": "markdown",
      "metadata": {
        "id": "check_gpu"
      },
      "source": [
        "## 1. Check GPU"
      ]
    },
    {
      "cell_type": "code",
      "execution_count": null,
      "metadata": {
        "id": "nvidia_smi"
      },
      "outputs": [],
      "source": [
        "!nvidia-smi"
      ]
    },
    {
      "cell_type": "markdown",
      "metadata": {
        "id": "clone_repo"
      },
      "source": [
        "## 2. Clone Repository"
      ]
    },
    {
      "cell_type": "code",
      "execution_count": null,
      "metadata": {
        "id": "clone"
      },
      "outputs": [],
      "source": [
        "!https://github.com/karan-mudaliar/embedding_service_poc.git\n",
        "%cd embedding_service_poc"
      ]
    },
    {
      "cell_type": "markdown",
      "metadata": {
        "id": "install_deps"
      },
      "source": [
        "## 3. Install Dependencies"
      ]
    },
    {
      "cell_type": "code",
      "execution_count": null,
      "metadata": {
        "id": "install"
      },
      "outputs": [],
      "source": [
        "!pip install -q fastapi uvicorn pydantic tyro\n",
        "!pip install -q langchain langchain-community\n",
        "!pip install -q sentence-transformers transformers\n",
        "!pip install -q torch torchvision\n",
        "!pip install -q httpx numpy datasets psutil\n",
        "!pip install -q structlog colorama\n",
        "!pip install -q vllm"
      ]
    },
    {
      "cell_type": "markdown",
      "metadata": {
        "id": "prepare_data"
      },
      "source": [
        "## 4. Prepare Test Dataset"
      ]
    },
    {
      "cell_type": "code",
      "execution_count": null,
      "metadata": {
        "id": "load_data"
      },
      "outputs": [],
      "source": [
        "!python data_loader.py"
      ]
    },
    {
      "cell_type": "markdown",
      "metadata": {
        "id": "test_hf"
      },
      "source": [
        "## 5. Test HuggingFace Backend"
      ]
    },
    {
      "cell_type": "code",
      "execution_count": null,
      "metadata": {
        "id": "start_hf"
      },
      "outputs": [],
      "source": [
        "# Start service in background\n",
        "import subprocess\n",
        "import time\n",
        "\n",
        "# Start HuggingFace service\n",
        "hf_process = subprocess.Popen(['python', 'service_huggingface.py'])\n",
        "print(\"Waiting for service to start...\")\n",
        "time.sleep(30)\n",
        "print(\"Service should be ready!\")"
      ]
    },
    {
      "cell_type": "code",
      "execution_count": null,
      "metadata": {
        "id": "health_hf"
      },
      "outputs": [],
      "source": [
        "# Health check\n",
        "import requests\n",
        "response = requests.get(\"http://localhost:8000/health\")\n",
        "print(response.json())"
      ]
    },
    {
      "cell_type": "code",
      "execution_count": null,
      "metadata": {
        "id": "stress_hf"
      },
      "outputs": [],
      "source": [
        "# Run stress test (10 minutes)\n",
        "!python stress_test.py --service-url http://localhost:8000 --duration-minutes 10 --batch-size 32 --max-concurrent-requests 10"
      ]
    },
    {
      "cell_type": "code",
      "execution_count": null,
      "metadata": {
        "id": "stop_hf"
      },
      "outputs": [],
      "source": [
        "# Stop HuggingFace service\n",
        "hf_process.terminate()\n",
        "hf_process.wait()\n",
        "print(\"HuggingFace service stopped\")"
      ]
    },
    {
      "cell_type": "markdown",
      "metadata": {
        "id": "test_vllm"
      },
      "source": [
        "## 6. Test vLLM Backend"
      ]
    },
    {
      "cell_type": "code",
      "execution_count": null,
      "metadata": {
        "id": "start_vllm"
      },
      "outputs": [],
      "source": [
        "# Start vLLM service\n",
        "vllm_process = subprocess.Popen(['python', 'service_vllm.py'])\n",
        "print(\"Waiting for vLLM service to start...\")\n",
        "time.sleep(60)  # vLLM takes longer to initialize\n",
        "print(\"Service should be ready!\")"
      ]
    },
    {
      "cell_type": "code",
      "execution_count": null,
      "metadata": {
        "id": "health_vllm"
      },
      "outputs": [],
      "source": [
        "# Health check\n",
        "response = requests.get(\"http://localhost:8001/health\")\n",
        "print(response.json())"
      ]
    },
    {
      "cell_type": "code",
      "execution_count": null,
      "metadata": {
        "id": "stress_vllm"
      },
      "outputs": [],
      "source": [
        "# Run stress test (10 minutes)\n",
        "!python stress_test.py --service-url http://localhost:8001 --duration-minutes 10 --batch-size 32 --max-concurrent-requests 10"
      ]
    },
    {
      "cell_type": "code",
      "execution_count": null,
      "metadata": {
        "id": "stop_vllm"
      },
      "outputs": [],
      "source": [
        "# Stop vLLM service\n",
        "vllm_process.terminate()\n",
        "vllm_process.wait()\n",
        "print(\"vLLM service stopped\")"
      ]
    },
    {
      "cell_type": "markdown",
      "metadata": {
        "id": "compare"
      },
      "source": [
        "## 7. Compare Results"
      ]
    },
    {
      "cell_type": "code",
      "execution_count": null,
      "metadata": {
        "id": "compare_results"
      },
      "outputs": [],
      "source": [
        "import json\n",
        "import glob\n",
        "\n",
        "# Load all result files\n",
        "result_files = sorted(glob.glob(\"stress_test_results_*.json\"))\n",
        "\n",
        "print(\"\\n=\" * 60)\n",
        "print(\"COMPARISON: HuggingFace vs vLLM\")\n",
        "print(\"=\" * 60)\n",
        "\n",
        "for i, file in enumerate(result_files[-2:]):\n",
        "    with open(file) as f:\n",
        "        results = json.load(f)\n",
        "    \n",
        "    backend = \"HuggingFace\" if i == 0 else \"vLLM\"\n",
        "    print(f\"\\n{backend} Backend:\")\n",
        "    print(f\"  Requests/sec: {results['requests_per_second']:.2f}\")\n",
        "    print(f\"  Success rate: {results['success_rate_percent']:.2f}%\")\n",
        "    print(f\"  P50 latency: {results['latency_metrics']['p50']:.4f}s\")\n",
        "    print(f\"  P90 latency: {results['latency_metrics']['p90']:.4f}s\")\n",
        "    print(f\"  P99 latency: {results['latency_metrics']['p99']:.4f}s\")\n",
        "\n",
        "print(\"\\n\" + \"=\" * 60)"
      ]
    },
    {
      "cell_type": "markdown",
      "metadata": {
        "id": "download"
      },
      "source": [
        "## 8. Download Results"
      ]
    },
    {
      "cell_type": "code",
      "execution_count": null,
      "metadata": {
        "id": "download_files"
      },
      "outputs": [],
      "source": [
        "from google.colab import files\n",
        "\n",
        "# Download all result files\n",
        "for file in result_files:\n",
        "    files.download(file)"
      ]
    }
  ],
  "metadata": {
    "accelerator": "GPU",
    "colab": {
      "gpuType": "T4",
      "provenance": []
    },
    "kernelspec": {
      "display_name": "Python 3",
      "name": "python3"
    },
    "language_info": {
      "name": "python"
    }
  },
  "nbformat": 4,
  "nbformat_minor": 0
}
